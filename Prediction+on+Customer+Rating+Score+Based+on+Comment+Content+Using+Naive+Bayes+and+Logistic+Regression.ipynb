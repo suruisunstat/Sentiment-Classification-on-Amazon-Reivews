{
 "cells": [
  {
   "cell_type": "markdown",
   "metadata": {},
   "source": [
    "# Sentiment Classification on Amazon Reviews Dataset "
   ]
  },
  {
   "cell_type": "markdown",
   "metadata": {},
   "source": [
    "In this project , I did the following things:\n",
    "1. Analyzed the Amazon Fine Food Reviews dataset, which contains 568,454 food reviews.\n",
    "2. Preprocessed the review text by stemming, removing punctuations and stopwords, and created a weighted matrix using count matrix and TFIDF method in Python.  Clustered sentiment based on customer rating socre.\n",
    "3. Build a classification model for customers’ sentiment using naïve bayes, logistic regression and random forest in Python. Determined the accuracy with the largest AUC equaling to 0.88.\n",
    "4. Visualized the keywords of positive and negative sentiment by drafting word clouds in R.\n"
   ]
  },
  {
   "cell_type": "code",
   "execution_count": 62,
   "metadata": {
    "collapsed": true
   },
   "outputs": [],
   "source": [
    "# load packages\n",
    "%matplotlib inline\n",
    "import sqlite3\n",
    "import pandas as pd\n",
    "import numpy as np\n",
    "import nltk"
   ]
  },
  {
   "cell_type": "code",
   "execution_count": 63,
   "metadata": {
    "collapsed": true
   },
   "outputs": [],
   "source": [
    "import string\n",
    "import matplotlib.pyplot as plt"
   ]
  },
  {
   "cell_type": "code",
   "execution_count": 64,
   "metadata": {
    "collapsed": true
   },
   "outputs": [],
   "source": [
    "from sklearn.feature_extraction.text import CountVectorizer\n",
    "# convert a collection of text into a matrix of token counts\n",
    "from sklearn.feature_extraction.text import TfidfTransformer \n",
    "# Transform a count matrix to a normalized tf-idf representation\n",
    "from sklearn.cross_validation import train_test_split\n",
    "from sklearn.metrics import confusion_matrix\n",
    "from sklearn import metrics\n",
    "from sklearn.metrics import roc_curve,auc\n"
   ]
  },
  {
   "cell_type": "code",
   "execution_count": 65,
   "metadata": {
    "collapsed": true
   },
   "outputs": [],
   "source": [
    "# connect the database and import the data into Python\n",
    "con = sqlite3.connect(\"/Users/suruisun/Downloads/kaggle/amazon-fine-foods-2/database.sqlite\")\n"
   ]
  },
  {
   "cell_type": "code",
   "execution_count": 66,
   "metadata": {
    "collapsed": true
   },
   "outputs": [],
   "source": [
    "messages = pd.read_sql_query(\"\"\"select Score, Summary from Reviews where Score!=3\"\"\",con)"
   ]
  },
  {
   "cell_type": "markdown",
   "metadata": {},
   "source": [
    "As we only want to get the global sentiment of the recommendations (positive or negative), we will purposefully ignore all Scores equal to 3. If the score is above 3, then the recommendation wil be set to \"postive\". Otherwise, it will be set to \"negative\"."
   ]
  },
  {
   "cell_type": "code",
   "execution_count": 67,
   "metadata": {
    "collapsed": false
   },
   "outputs": [
    {
     "data": {
      "text/html": [
       "<div>\n",
       "<table border=\"1\" class=\"dataframe\">\n",
       "  <thead>\n",
       "    <tr style=\"text-align: right;\">\n",
       "      <th></th>\n",
       "      <th>Score</th>\n",
       "      <th>Summary</th>\n",
       "    </tr>\n",
       "  </thead>\n",
       "  <tbody>\n",
       "    <tr>\n",
       "      <th>0</th>\n",
       "      <td>5</td>\n",
       "      <td>Good Quality Dog Food</td>\n",
       "    </tr>\n",
       "    <tr>\n",
       "      <th>1</th>\n",
       "      <td>1</td>\n",
       "      <td>Not as Advertised</td>\n",
       "    </tr>\n",
       "  </tbody>\n",
       "</table>\n",
       "</div>"
      ],
      "text/plain": [
       "   Score                Summary\n",
       "0      5  Good Quality Dog Food\n",
       "1      1      Not as Advertised"
      ]
     },
     "execution_count": 67,
     "metadata": {},
     "output_type": "execute_result"
    }
   ],
   "source": [
    "def participation(x):\n",
    "    if x < 3:\n",
    "        return \"positive\"\n",
    "    return \"negative\"\n",
    "\n",
    "messages.head(2)"
   ]
  },
  {
   "cell_type": "code",
   "execution_count": 68,
   "metadata": {
    "collapsed": false
   },
   "outputs": [],
   "source": [
    "Score = messages['Score']\n",
    "Score = Score.map(participation)\n",
    "Summary = messages['Summary']\n",
    "X_train, X_test, y_train, y_test = train_test_split(Summary,Score,test_size=0.2,random_state=42) # train_test_split"
   ]
  },
  {
   "cell_type": "code",
   "execution_count": 69,
   "metadata": {
    "collapsed": false
   },
   "outputs": [
    {
     "name": "stdout",
     "output_type": "stream",
     "text": [
      "    Score                                            Summary\n",
      "0       5                              Good Quality Dog Food\n",
      "1       1                                  Not as Advertised\n",
      "2       4                              \"Delight\" says it all\n",
      "3       2                                     Cough Medicine\n",
      "4       5                                        Great taffy\n",
      "5       4                                         Nice Taffy\n",
      "6       5      Great!  Just as good as the expensive brands!\n",
      "7       5                             Wonderful, tasty taffy\n",
      "8       5                                         Yay Barley\n",
      "9       5                                   Healthy Dog Food\n",
      "10      5                    The Best Hot Sauce in the World\n",
      "11      5  My cats LOVE this \"diet\" food better than thei...\n",
      "12      1               My Cats Are Not Fans of the New Food\n",
      "13      4                                  fresh and greasy!\n",
      "14      5                       Strawberry Twizzlers - Yummy\n",
      "15      5           Lots of twizzlers, just what you expect.\n",
      "16      2                                         poor taste\n",
      "17      5                                           Love it!\n",
      "18      5                                 GREAT SWEET CANDY!\n",
      "19      5                            Home delivered twizlers\n"
     ]
    }
   ],
   "source": [
    "print(messages.head(20))"
   ]
  },
  {
   "cell_type": "code",
   "execution_count": 70,
   "metadata": {
    "collapsed": false
   },
   "outputs": [
    {
     "name": "stdout",
     "output_type": "stream",
     "text": [
      "       Score                                            Summary\n",
      "0   negative                              Good Quality Dog Food\n",
      "1   positive                                  Not as Advertised\n",
      "2   negative                              \"Delight\" says it all\n",
      "3   positive                                     Cough Medicine\n",
      "4   negative                                        Great taffy\n",
      "5   negative                                         Nice Taffy\n",
      "6   negative      Great!  Just as good as the expensive brands!\n",
      "7   negative                             Wonderful, tasty taffy\n",
      "8   negative                                         Yay Barley\n",
      "9   negative                                   Healthy Dog Food\n",
      "10  negative                    The Best Hot Sauce in the World\n",
      "11  negative  My cats LOVE this \"diet\" food better than thei...\n",
      "12  positive               My Cats Are Not Fans of the New Food\n",
      "13  negative                                  fresh and greasy!\n",
      "14  negative                       Strawberry Twizzlers - Yummy\n",
      "15  negative           Lots of twizzlers, just what you expect.\n",
      "16  positive                                         poor taste\n",
      "17  negative                                           Love it!\n",
      "18  negative                                 GREAT SWEET CANDY!\n",
      "19  negative                            Home delivered twizlers\n"
     ]
    }
   ],
   "source": [
    "tmp = messages\n",
    "tmp['Score'] = tmp['Score'].map(participation)\n",
    "print(tmp.head(20))\n"
   ]
  },
  {
   "cell_type": "code",
   "execution_count": 21,
   "metadata": {
    "collapsed": false
   },
   "outputs": [],
   "source": [
    "\"\"\"from nltk.corpus import stopwords\n",
    "Words = stopwords.words('english')\n",
    "Words = [word for word in Words if word not in ['not','no']]\"\"\"\n"
   ]
  },
  {
   "cell_type": "code",
   "execution_count": 71,
   "metadata": {
    "collapsed": false
   },
   "outputs": [
    {
     "data": {
      "text/plain": [
       "496497                                    ALMONDS GREAT BUY\n",
       "225396    I never thought i'd have to say no to more fru...\n",
       "288197                                   We love this Stuff\n",
       "88450                                    Fan-friggen-tastic\n",
       "354669                                     Great for office\n",
       "Name: Summary, dtype: object"
      ]
     },
     "execution_count": 71,
     "metadata": {},
     "output_type": "execute_result"
    }
   ],
   "source": [
    "X_train.head()"
   ]
  },
  {
   "cell_type": "code",
   "execution_count": 72,
   "metadata": {
    "collapsed": false
   },
   "outputs": [],
   "source": [
    "corpus = []\n",
    "for text in X_train:\n",
    "    text = text.lower()\n",
    "    tokens = text.split()\n",
    "    text = [char for char in text if char not in string.punctuation]\n",
    "    text = ''.join(text)\n",
    "    corpus.append(text)"
   ]
  },
  {
   "cell_type": "code",
   "execution_count": 50,
   "metadata": {
    "collapsed": false
   },
   "outputs": [],
   "source": [
    "\"\"\"corpus1 = []\n",
    "for line in corpus:\n",
    "    words = line.split()\n",
    "    words = [word for word in words if word not in Words]\n",
    "    line1 = ' '.join(words)\n",
    "    corpus1.append(line1)\"\"\""
   ]
  },
  {
   "cell_type": "code",
   "execution_count": 73,
   "metadata": {
    "collapsed": false
   },
   "outputs": [],
   "source": [
    "count_vect = CountVectorizer()\n",
    "X_train_counts = count_vect.fit_transform(corpus1)\n",
    "tfidf_transformer = TfidfTransformer()\n",
    "X_train_tfidf = tfidf_transformer.fit_transform(X_train_counts)"
   ]
  },
  {
   "cell_type": "code",
   "execution_count": 74,
   "metadata": {
    "collapsed": false
   },
   "outputs": [
    {
     "name": "stdout",
     "output_type": "stream",
     "text": [
      "                                                    After  \\\n",
      "496497                                  almonds great buy   \n",
      "225396  i never thought id have to say no to more frui...   \n",
      "288197                                 we love this stuff   \n",
      "88450                                    fanfriggentastic   \n",
      "354669                                   great for office   \n",
      "331410                                what have they done   \n",
      "456920                                     cry baby tears   \n",
      "261055   good cereal with a few potential health concerns   \n",
      "295869                                       a quick meal   \n",
      "149914                                        good flavor   \n",
      "368576                                best bbq sauce ever   \n",
      "192328                       best lemonade mix ive bought   \n",
      "123408   if you like the taste of chai you will love this   \n",
      "114477              the best basic ramen noodle out there   \n",
      "108795                                           huge bag   \n",
      "315703                                   great experience   \n",
      "331329                                         good stuff   \n",
      "499936                                         good stuff   \n",
      "215291                                         count them   \n",
      "309777                   the best popcorn for your health   \n",
      "\n",
      "                                                   Before  \n",
      "496497                                  ALMONDS GREAT BUY  \n",
      "225396  I never thought i'd have to say no to more fru...  \n",
      "288197                                 We love this Stuff  \n",
      "88450                                  Fan-friggen-tastic  \n",
      "354669                                   Great for office  \n",
      "331410                            What have they done????  \n",
      "456920                                     Cry Baby Tears  \n",
      "261055   Good cereal with a few potential health concerns  \n",
      "295869                                       a quick meal  \n",
      "149914                                        Good flavor  \n",
      "368576                               Best BBQ Sauce EVER!  \n",
      "192328                       best lemonade mix ive bought  \n",
      "123408  If you like the taste of Chai you will love this.  \n",
      "114477              The best basic ramen noodle out there  \n",
      "108795                                           Huge Bag  \n",
      "315703                                   Great Experience  \n",
      "331329                                         good stuff  \n",
      "499936                                         Good stuff  \n",
      "215291                                       count them!!  \n",
      "309777                  The Best Popcorn for your Health!  \n"
     ]
    }
   ],
   "source": [
    "test_set = []\n",
    "for text in X_test:\n",
    "    text = text.lower()\n",
    "    text = [char for char in text if char not in string.punctuation]\n",
    "    text = text = ''.join(text)\n",
    "    test_set.append(text)\n",
    "    \n",
    "\"\"\"test_set1 = []\n",
    "for line in test_set:\n",
    "    words = [word for word in words if word not in Words]\n",
    "    line1 = ' '.join(words)\n",
    "    test_set1.append(line1)\"\"\"\n",
    "\n",
    "X_new_counts = count_vect.transform(test_set)\n",
    "X_test_tfidf = tfidf_transformer.transform(X_new_counts)\n",
    "\n",
    "from pandas import *\n",
    "df = DataFrame({'Before':X_train,'After':corpus})\n",
    "print(df.head(20))\n",
    "prediction = dict()"
   ]
  },
  {
   "cell_type": "code",
   "execution_count": 75,
   "metadata": {
    "collapsed": false
   },
   "outputs": [],
   "source": [
    "from sklearn.naive_bayes import MultinomialNB\n",
    "model = MultinomialNB().fit(X_train_tfidf,y_train)\n",
    "prediction['Multinomial']=model.predict(X_test_tfidf)"
   ]
  },
  {
   "cell_type": "code",
   "execution_count": 76,
   "metadata": {
    "collapsed": false
   },
   "outputs": [],
   "source": [
    "from sklearn.naive_bayes import BernoulliNB\n",
    "model = BernoulliNB().fit(X_train_tfidf,y_train)\n",
    "prediction['Bernoulli'] = model.predict(X_test_tfidf)"
   ]
  },
  {
   "cell_type": "code",
   "execution_count": 77,
   "metadata": {
    "collapsed": true
   },
   "outputs": [],
   "source": [
    "from sklearn import linear_model\n",
    "logreg = linear_model.LogisticRegression(C=1e5)\n",
    "logreg.fit(X_train_tfidf,y_train)\n",
    "prediction['Logistic']=logreg.predict(X_test_tfidf)"
   ]
  },
  {
   "cell_type": "code",
   "execution_count": 81,
   "metadata": {
    "collapsed": false
   },
   "outputs": [],
   "source": [
    "from sklearn.ensemble import RandomForestClassifier as RFC\n",
    "model = RFC(n_estimators=10)"
   ]
  },
  {
   "cell_type": "code",
   "execution_count": 82,
   "metadata": {
    "collapsed": false
   },
   "outputs": [],
   "source": [
    "result = model.fit(X_train_tfidf,y_train)"
   ]
  },
  {
   "cell_type": "code",
   "execution_count": 83,
   "metadata": {
    "collapsed": true
   },
   "outputs": [],
   "source": [
    "prediction['Random_Forest']= model.predict(X_test_tfidf)"
   ]
  },
  {
   "cell_type": "code",
   "execution_count": 84,
   "metadata": {
    "collapsed": false
   },
   "outputs": [
    {
     "data": {
      "image/png": "[encoded data removed]",
      "text/plain": [
       "<matplotlib.figure.Figure at 0x139206850>"
      ]
     },
     "metadata": {},
     "output_type": "display_data"
    }
   ],
   "source": [
    "def format(x):\n",
    "    if x=='positive':\n",
    "        return 1\n",
    "    return 0\n",
    "vfunc = np.vectorize(format)\n",
    "\n",
    "cmp = 0\n",
    "colors = ['b','g','y','m','p','k']\n",
    "for model, predicted in prediction.items():\n",
    "    false_positive_rate, true_positive_rate, thresholds = roc_curve(y_test.map(format),vfunc(predicted))\n",
    "    roc_auc = auc(false_positive_rate, true_positive_rate)\n",
    "    plt.plot(false_positive_rate, true_positive_rate, colors[cmp],label = \"%s: AUC %0.2f\"%(model,roc_auc))\n",
    "    cmp += 1\n",
    "\n",
    "plt.title('Classification comparison with ROC')\n",
    "plt.legend(loc='lower right')\n",
    "plt.plot([0,1],[0,1],'r--')\n",
    "#plt.xlim([-0.1,1.2])\n",
    "#plt.ylim([-0.1,1,2])\n",
    "plt.ylabel('True Postive Rate')\n",
    "plt.xlabel('False Positive Rate')\n",
    "plt.show()\n"
   ]
  },
  {
   "cell_type": "code",
   "execution_count": 85,
   "metadata": {
    "collapsed": false
   },
   "outputs": [
    {
     "name": "stdout",
     "output_type": "stream",
     "text": [
      "             precision    recall  f1-score   support\n",
      "\n",
      "   positive       0.95      0.97      0.96     88784\n",
      "   negative       0.80      0.70      0.75     16379\n",
      "\n",
      "avg / total       0.92      0.93      0.92    105163\n",
      "\n"
     ]
    },
    {
     "data": {
      "image/png": "[encoded data removed]",
      "text/plain": [
       "<matplotlib.figure.Figure at 0x1283bf250>"
      ]
     },
     "metadata": {},
     "output_type": "display_data"
    },
    {
     "data": {
      "image/png": "[encoded data removed]",
      "text/plain": [
       "<matplotlib.figure.Figure at 0x137b56e10>"
      ]
     },
     "metadata": {},
     "output_type": "display_data"
    }
   ],
   "source": [
    "print(metrics.classification_report(y_test, prediction['Logistic'], target_names = [\"positive\", \"negative\"]))\n",
    "def plot_confusion_matrix(cm,title='Confusion Matrix',cmap=plt.cm.Blues):\n",
    "    plt.imshow(cm, interpolation='nearest',cmap=cmap)\n",
    "    plt.title(title)\n",
    "    plt.colorbar()\n",
    "    tick_marks = np.arange(len(set(Score)))\n",
    "    plt.xticks(tick_marks,set(Score),rotation=45)\n",
    "    plt.yticks(tick_marks,set(Score))\n",
    "    plt.tight_layout()\n",
    "    plt.ylabel('True Label')\n",
    "    plt.xlabel('Predicted Label')\n",
    "    \n",
    "cm = confusion_matrix(y_test,prediction['Logistic'])\n",
    "np.set_printoptions(precision=2)\n",
    "plt.figure()\n",
    "plot_confusion_matrix(cm)\n",
    "cm_normalized = cm.astype('float')/cm.sum(axis=1)[:,np.newaxis]\n",
    "plt.figure()\n",
    "plot_confusion_matrix(cm_normalized,title='Normalized confusion matrix')\n",
    "plt.show()\n",
    "\n",
    "    \n",
    "    \n",
    "    "
   ]
  },
  {
   "cell_type": "code",
   "execution_count": null,
   "metadata": {
    "collapsed": true
   },
   "outputs": [],
   "source": []
  }
 ],
 "metadata": {
  "kernelspec": {
   "display_name": "Python 2",
   "language": "python",
   "name": "python2"
  },
  "language_info": {
   "codemirror_mode": {
    "name": "ipython",
    "version": 2
   },
   "file_extension": ".py",
   "mimetype": "text/x-python",
   "name": "python",
   "nbconvert_exporter": "python",
   "pygments_lexer": "ipython2",
   "version": "2.7.12"
  }
 },
 "nbformat": 4,
 "nbformat_minor": 0
}
